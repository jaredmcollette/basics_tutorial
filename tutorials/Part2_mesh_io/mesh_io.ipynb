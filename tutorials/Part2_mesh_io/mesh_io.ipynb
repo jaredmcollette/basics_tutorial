{
 "cells": [
  {
   "cell_type": "markdown",
   "metadata": {},
   "source": [
    "# Mesh input/output\n",
    "\n",
    "## Introduction\n",
    "\n",
    "This tutorial will demonstrate how you can import geometric computational meshes to use for your finite element simulations. For this demonstration we will be loading in a 2D simplex triangulated mesh of a cicle and a 3D simplex tetrahedral mesh of a cardiomyocyte sarcomere. \n",
    "\n",
    "## Learning objectives\n",
    "* Learn how to read in mesh files and use them to define the opencmiss-iron objects that are related to mesh nodes and elements for a finite element problem. \n",
    "* Know how meshes can be output into different formats.\n",
    "\n",
    "\n",
    "## Running this tutorial\n",
    "Provided that you have already installed the OpenCMISS library, the code excerpts in this section can be run interactively by entering it directly into the Python interpreter, which can be started by running python or ipython in a terminal. The code shown here can also be downloaded as a jupyter notebook in the following [link](https://github.com/OpenCMISS-Examples/basics_tutorial/blob/master/src/python/mesh_io.ipynb).\n",
    "\n",
    "\n",
    "## Loading in a 3D tetrahedral mesh\n",
    "\n",
    "In this tutorial we will walk through the steps to load in a 3D finite element linear simplex mesh of a section of a cardiomyocyte. The filenames are CARDIOMYOCYTE.node and CARDIOMYOCYTE.ele. The file extensions indicate that the .node file contains nodal information and the .ele file contains element information. The mesh files contain header information in the first line and then list the mesh node and element properties, respectively .The mesh we are using in this tutorial was originally generated using a software package for creating tetrahedral meshes, called tetgen but we have stripped away some of the details to maintain the focus of this tutorial on using the opencmiss-iron libraries. \n",
    "## Key concepts when loading in a mesh geometry\n",
    "\n",
    "When you start considering importing meshes into an OpenCMISS-Iron finite element simulation keep the following points in mind:\n",
    "\n",
    "1. Remember that OpenCMISS-Iron is just a library of functions to perform finite element simulations. Open-CMISS Iron does not have a pre-defined file format that it recognises. OpenCMISS-Iron is therefore mesh-file-format-agnostic. This is to say that you can import any type of file you have into the python program for your finite element simulation.\n",
    "\n",
    "2. The key step to importing meshes into your program is to write some code that enables you to import the mesh nodes and elements into aarray. This array is then used to define the Nodes and Mesh Elements objects that define a finite element mesh. The mesh format inputted is not important so long as you can use python to read that file and convert the data to a numpy array of element matrix (connectivity matrix i.e. elements and their associated nodes) and a nodal matrix (nodes and their associated x-y coordinates)\n",
    "\n",
    "3. When importing meshes you need to know what type of interpolation scheme is used and then define the corresponding basis functions within the finite element program that you are using for the finite element simulation. \n",
    "\n",
    "4. Be very careful and aware of the node numbering sequence that you use to define each finite element. OpenCMISS-Iron uses the Zienkiewicz node numbering system for each element: \n",
    "\n",
    "\n",
    "![Linear Simplex Triangle](https://raw.githubusercontent.com/OpenCMISS/documentation/develop/notes/OpenCMISSNotes/svgs/BasisFunctions/lineartriangle.svg)\n",
    "\n",
    "![Quadratic Simplex Triangle](https://raw.githubusercontent.com/OpenCMISS/documentation/develop/notes/OpenCMISSNotes/svgs/BasisFunctions/quadratictriangle.svg)\n",
    "\n",
    "![Linear Simplex Tetrahedron](https://raw.githubusercontent.com/OpenCMISS/documentation/develop/notes/OpenCMISSNotes/svgs/BasisFunctions/lineartetrahedron.svg)\n",
    "\n",
    "![Quadratic Simplex Tetrahedron](https://raw.githubusercontent.com/OpenCMISS/documentation/develop/notes/OpenCMISSNotes/svgs/BasisFunctions/quadratictetrahedron.svg)\n",
    "\n",
    "\n",
    "5. Output of meshes is the same as input - you just need to extract the node and element variables from the OpenCMISS-Iron objects and write them out in the format of your choice.\n",
    "\n",
    "6. At the end of this tutorial we provide links to a mesh import and export functions that we have written previously, which you are welcome to use and customise for your own purposes. \n",
    "\n"
   ]
  },
  {
   "cell_type": "markdown",
   "metadata": {},
   "source": [
    "### Types of Basis Functions Compatible with OpenCMISS-Iron\n",
    "Currently, the types of basis functions that have been defined in OpenCMISS-Iron include:\n",
    "\n",
    "Linear Lagrange\n",
    "\n",
    "Quadratic Lagrange\n",
    "\n",
    "Cubic-Hermite \n",
    "\n",
    "Linear Simplex\n",
    "\n",
    "Quadratic Simplex"
   ]
  },
  {
   "cell_type": "markdown",
   "metadata": {},
   "source": [
    "## Loading the OpenCMISS-Iron library\n",
    "In order to use OpenCMISS we have to first import the opencmiss.iron module from the opencmiss package."
   ]
  },
  {
   "cell_type": "code",
   "execution_count": 1,
   "metadata": {
    "pycharm": {
     "is_executing": true
    }
   },
   "outputs": [],
   "source": [
    "# Intialise OpenCMISS-Iron.\n",
    "from opencmiss.iron import iron"
   ]
  },
  {
   "cell_type": "markdown",
   "metadata": {
    "pycharm": {
     "name": "#%% md\n"
    }
   },
   "source": [
    "Assuming OpenCMISS has been correctly built with the Python bindings by\n",
    "following the instructions in the programmer documentation, we can now access\n",
    "all the OpenCMISS functions, classes and constants under the iron namespace.\n",
    "\n",
    "The next section describes how we can interact with the OpenCMISS-Iron library\n",
    "through an object-oriented API.\n",
    "\n",
    "## Step by step guide\n",
    "\n",
    "### 1. Creating a coordinate system\n",
    "\n",
    "First we construct a coordinate system that will be used to describe the geometry in our problem. The 3D geometry will exist in a 3D space, so we need a 3D coordinate system."
   ]
  },
  {
   "cell_type": "code",
   "execution_count": 2,
   "metadata": {
    "pycharm": {
     "is_executing": true
    }
   },
   "outputs": [],
   "source": [
    "# Create coordinate system.\n",
    "coordinate_system_user_number = 1\n",
    "coordinate_system = iron.CoordinateSystem()\n",
    "coordinate_system.CreateStart(coordinate_system_user_number)\n",
    "coordinate_system.DimensionSet(3)\n",
    "coordinate_system.CreateFinish()"
   ]
  },
  {
   "cell_type": "markdown",
   "metadata": {},
   "source": [
    "### 2. Read in the node file\n",
    "OpenCMISS-Iron can handle any user-generated meshes provided the files are processed and entered into OpenCMISS-Iron objects related to the mesh. This process requires that the user provide files detailing the nodes and elements. We will start by reading the details of the nodes into our OpenCMISS-Iron based python program."
   ]
  },
  {
   "cell_type": "code",
   "execution_count": 3,
   "metadata": {},
   "outputs": [],
   "source": [
    "# Reading node file\n",
    "node_file = open('FIXED_LOWRES_MESH.node', 'r')\n",
    "\n",
    "# Reading the mesh details from the first line of the node file\n",
    "num_nodes, num_coords, num_attributes, boundary_markers = node_file.readline().split()\n",
    "num_nodes = int(num_nodes)\n",
    "num_coords=int(num_coords)\n",
    "num_attributes=int(num_attributes)\n",
    "boundary_markers=int(boundary_markers)\n",
    "# Creating variables to store node number & boundary marker\n",
    "NodeNums = [[0 for m in range(2)] for n in range(num_nodes)]\n",
    "# Creating array to store x and y coordinates\n",
    "NodeCoords = [[0 for m in range(num_coords)] for n in range(num_nodes)]\n",
    "\n",
    "# Reading details from node file\n",
    "for i in range(num_nodes):\n",
    "    NodeNums[i][0], NodeCoords[i][0], NodeCoords[i][1], NodeCoords[i][2] = node_file.readline().split()  #node number, x, y, z, boundary marker\n",
    "    # Converting from string to appropriate type\n",
    "    NodeNums[i][0] = int(NodeNums[i][0])\n",
    "    NodeCoords[i][0] = float(NodeCoords[i][0])\n",
    "    NodeCoords[i][1] = float(NodeCoords[i][1])\n",
    "    NodeCoords[i][2] = float(NodeCoords[i][2])\n",
    "\n",
    "# Closing the file\n",
    "node_file.close()\n"
   ]
  },
  {
   "cell_type": "markdown",
   "metadata": {},
   "source": [
    "### 3. Read in the elements\n",
    "OpenCMISS-Iron uses Zeinkiewicz winding to map out the nodes of each element. This means that we need to manually map each element's nodes from the order in which they appear in the file to that required by Iron. In this example the order of the nodes in the file matches the opencmiss-iron winding. "
   ]
  },
  {
   "cell_type": "code",
   "execution_count": 4,
   "metadata": {},
   "outputs": [],
   "source": [
    "#Inputing element file\n",
    "elem_file = open('FIXED_LOWRES_MESH.ele', 'r')\n",
    "\n",
    "#Reading the values of the first line\n",
    "num_elements, nodes_per_ele, ele_attributes = elem_file.readline().split()\n",
    "\n",
    "# Converting the numbers to integers\n",
    "num_elements = int(num_elements)\n",
    "nodes_per_ele = int(nodes_per_ele)\n",
    "ele_attributes = int(ele_attributes)\n",
    "\n",
    "# Creating variable to store the element map\n",
    "ElemMap = [[0 for x in range(nodes_per_ele+ele_attributes)] for y in range(num_elements)]\n",
    "\n",
    "Elemindex = [[0 for m in range(1)] for n in range(num_elements)]\n",
    "# Reading element data from elemfile\n",
    "for i in range(num_elements):\n",
    "    # Performing the mapping\n",
    "    Elemindex[i][0], ElemMap[i][0], ElemMap[i][1], ElemMap[i][2], ElemMap[i][3] = elem_file.readline().split()\n",
    "    \n",
    "\n",
    "# Closing the file\n",
    "elem_file.close()\n"
   ]
  },
  {
   "cell_type": "markdown",
   "metadata": {
    "pycharm": {
     "name": "#%% md\n"
    }
   },
   "source": [
    "### 4. Creating basis functions\n",
    "The finite element description of our fields requires a basis function to interpolate field values over elements, so we create a 3D basis with simplex interpolation in all $\\xi$ directions. "
   ]
  },
  {
   "cell_type": "code",
   "execution_count": 5,
   "metadata": {
    "pycharm": {
     "is_executing": true,
     "name": "#%%\n"
    }
   },
   "outputs": [],
   "source": [
    "numberOfXi = 3\n",
    "basis_user_number = 1\n",
    "basis = iron.Basis()\n",
    "basis.CreateStart(basis_user_number)\n",
    "basis.type = iron.BasisTypes.SIMPLEX\n",
    "basis.numberOfXi = numberOfXi\n",
    "basis.interpolationXi = [iron.BasisInterpolationSpecifications.LINEAR_SIMPLEX] * numberOfXi\n",
    "basis.quadratureOrder = 2\n",
    "basis.CreateFinish()"
   ]
  },
  {
   "cell_type": "markdown",
   "metadata": {},
   "source": [
    "### 5. Creating a region\n",
    "\n",
    "Next we create a region that our fields will be defined on and tell it to use the 3D coordinate system we created previously. The CreateStart method for a region requires another region as a parameter. We use the world region that is created by default so that our region is a subregion of the world region."
   ]
  },
  {
   "cell_type": "code",
   "execution_count": 6,
   "metadata": {
    "pycharm": {
     "is_executing": true,
     "name": "#%%\n"
    }
   },
   "outputs": [],
   "source": [
    "# Create region\n",
    "region_user_number = 1\n",
    "region = iron.Region()\n",
    "region.CreateStart(region_user_number, iron.WorldRegion)\n",
    "region.CoordinateSystemSet(coordinate_system)\n",
    "region.LabelSet(\"Region\")\n",
    "region.CreateFinish()"
   ]
  },
  {
   "cell_type": "markdown",
   "metadata": {},
   "source": [
    "### 6. Define mesh objects\n",
    "Finally, we need to intialise the nodes, the elements and the mesh with the mesh parameters that we have imported into the python program. "
   ]
  },
  {
   "cell_type": "markdown",
   "metadata": {},
   "source": [
    "First, lets initialise an iron.Nodes() object which will store the details of the nodes of the mesh."
   ]
  },
  {
   "cell_type": "code",
   "execution_count": 7,
   "metadata": {},
   "outputs": [],
   "source": [
    "# Initialise Nodes\n",
    "nodes = iron.Nodes()\n",
    "nodes.CreateStart(region, num_nodes)\n",
    "nodes.CreateFinish()"
   ]
  },
  {
   "cell_type": "markdown",
   "metadata": {},
   "source": [
    "Then, initialise an iron.Mesh() object to store the details of the mesh itself."
   ]
  },
  {
   "cell_type": "code",
   "execution_count": 8,
   "metadata": {},
   "outputs": [],
   "source": [
    "# Initialise Mesh\n",
    "mesh = iron.Mesh()\n",
    "mesh_user_number=1\n",
    "mesh.CreateStart(mesh_user_number, region, num_coords)\n",
    "mesh.NumberOfElementsSet(num_elements)\n",
    "mesh.NumberOfComponentsSet(1)"
   ]
  },
  {
   "cell_type": "markdown",
   "metadata": {},
   "source": [
    "We now create a meshelements object which will define the node numbering for each element. Tetgen generates a .ele file that contains a sequence of nodes to define each element. As mentioned at the start of this tutorial OpenCMISS-Iron uses the Zienkiewicz winding but tetgen uses a different winding scheme for the node numbering. Therefore we have to ensure that we alter the node numbering when defining the mesh elements below to reflect the OpenCMISS-Iron winding. "
   ]
  },
  {
   "cell_type": "code",
   "execution_count": 9,
   "metadata": {},
   "outputs": [],
   "source": [
    "# Initialise Elements\n",
    "meshElements = iron.MeshElements()\n",
    "meshElements.CreateStart(mesh, 1, basis)\n",
    "\n",
    "for i in range(num_elements):\n",
    "    element=Elemindex[i][0]\n",
    "    nodesList = list(map(int,[ElemMap[i][0], ElemMap[i][1], ElemMap[i][2], ElemMap[i][3]]))\n",
    "    meshElements.NodesSet(int(element), nodesList)   \n",
    "        \n",
    "meshElements.CreateFinish()"
   ]
  },
  {
   "cell_type": "markdown",
   "metadata": {},
   "source": [
    "We conclude this step by finalizing the mesh object:"
   ]
  },
  {
   "cell_type": "code",
   "execution_count": 10,
   "metadata": {},
   "outputs": [],
   "source": [
    "# Finalise Mesh\n",
    "mesh.CreateFinish()"
   ]
  },
  {
   "cell_type": "markdown",
   "metadata": {
    "pycharm": {
     "name": "#%% md\n"
    }
   },
   "source": [
    "### 7. Decomposing the mesh\n",
    "Once the mesh has been created we can decompose it into a number of domains in order to allow for parallelism. We choose the options to let OpenCMISS calculate the best way to break up the mesh. We also set the number of domains to be equal to the number of computational nodes this example is running on. Note that if MPI infrastructure is not used, only single domain will be created. Look for our parallelisation example for an illustration of how to execute simulations using parallel processing techniques. "
   ]
  },
  {
   "cell_type": "code",
   "execution_count": 11,
   "metadata": {
    "pycharm": {
     "is_executing": true,
     "name": "#%%\n"
    }
   },
   "outputs": [],
   "source": [
    "# Perform mesh decomposition.\n",
    "decomposition_user_number = 1\n",
    "decomposition = iron.Decomposition()\n",
    "decomposition.CreateStart(decomposition_user_number, mesh)\n",
    "decomposition.CreateFinish()"
   ]
  },
  {
   "cell_type": "markdown",
   "metadata": {
    "pycharm": {
     "name": "#%% md\n"
    }
   },
   "source": [
    "### 8. Creating a geometric field\n",
    "Now that the mesh has been decomposed we are in a position to create fields. The first field we need to create is the geometric field. Here we create a field and partition the field to different computational nodes using the mesh decomposition that we have just created. Once we have finished creating the field we can change the field DOFs to define the geometry using the nodal coordinates we have imported."
   ]
  },
  {
   "cell_type": "code",
   "execution_count": 12,
   "metadata": {
    "pycharm": {
     "is_executing": true,
     "name": "#%%\n"
    }
   },
   "outputs": [],
   "source": [
    "# Create a field for the geometry.\n",
    "geometric_field_user_number = 1\n",
    "geometric_field = iron.Field()\n",
    "geometric_field.CreateStart(geometric_field_user_number, region) #notice that the geometric field is associated with region in this function call.\n",
    "geometric_field.LabelSet('Geometry')\n",
    "geometric_field.MeshDecompositionSet(decomposition)\n",
    "geometric_field.CreateFinish()"
   ]
  },
  {
   "cell_type": "markdown",
   "metadata": {},
   "source": [
    "We have created a geometric field but all the field component values are currently set to zero by default. We can define the geometry for the custom mesh as follows. The key step is the call to the geometric field function ParameterSetUpdateNodeDP. You can find details about this method within the OpenCMISS-Iron python API. Since OpenCMISS-Iron has been coded with MPI parallel programming in mind we access the node variables within the decomposition object that has been defined so that we correctly update node variables in the right computational node. Of course, if you are only using 1 computational node then this code will revert to updating all the nodes in the mesh on that single computational node."
   ]
  },
  {
   "cell_type": "code",
   "execution_count": 13,
   "metadata": {},
   "outputs": [],
   "source": [
    "# Set geometric field values from customized mesh.\n",
    "computationalNodeNumber = iron.ComputationalNodeNumberGet()\n",
    "for i in range(num_nodes):\n",
    "    node = NodeNums[i][0]\n",
    "    nodeDomain = decomposition.NodeDomainGet(node, 1)\n",
    "    if nodeDomain == computationalNodeNumber:\n",
    "        nodex = NodeCoords[i][0]\n",
    "        nodey = NodeCoords[i][1]\n",
    "        nodez = NodeCoords[i][2]\n",
    "        geometric_field.ParameterSetUpdateNodeDP(iron.FieldVariableTypes.U,\n",
    "                                                iron.FieldParameterSetTypes.VALUES,\n",
    "                                                1, 1, node, 1, nodex)\n",
    "        geometric_field.ParameterSetUpdateNodeDP(iron.FieldVariableTypes.U,\n",
    "                                                iron.FieldParameterSetTypes.VALUES,\n",
    "                                                1, 1, node, 2, nodey)\n",
    "        geometric_field.ParameterSetUpdateNodeDP(iron.FieldVariableTypes.U,\n",
    "                                                iron.FieldParameterSetTypes.VALUES,\n",
    "                                                1, 1, node, 3, nodez)\n",
    "\n"
   ]
  },
  {
   "cell_type": "markdown",
   "metadata": {},
   "source": [
    "Once the geometric field variables have been updated with the input mesh node coordinates it is important to ensure that all computational nodes are notified with the new information. So the following function calls are really important. "
   ]
  },
  {
   "cell_type": "code",
   "execution_count": 14,
   "metadata": {},
   "outputs": [],
   "source": [
    "# Update the geometric field.\n",
    "geometric_field.ParameterSetUpdateStart(iron.FieldVariableTypes.U,\n",
    "                                       iron.FieldParameterSetTypes.VALUES)\n",
    "geometric_field.ParameterSetUpdateFinish(iron.FieldVariableTypes.U,\n",
    "                                       iron.FieldParameterSetTypes.VALUES)"
   ]
  },
  {
   "cell_type": "markdown",
   "metadata": {},
   "source": [
    "### 9. Exporting meshes\n",
    "Now that the mesh has been imported into the OpenCMISS-Iron mesh and related objects, we can now use them for solving equations on the mesh topology. In what follows we show examples of how information in mesh objects can be extracted to generate mesh outputs. Typically, we don't want to only visualise the mesh node coordinates and elements. We usually execute a biophysics simulation over the input mesh domain and it is the resulting solution over the mesh that we want to visualise. The solution is typically stored in a field that is created when setting up the simulation. We have not set up a simulation in this example. Therefore, for illustration purposes lets create an additional field that is associated with the mesh. We will then set out to visualise this \"output\" over the mesh in t he examples that follow.     "
   ]
  },
  {
   "cell_type": "code",
   "execution_count": 15,
   "metadata": {},
   "outputs": [],
   "source": [
    "### Setting up the part of the example about outputting mesh info. \n",
    "## create new field\n",
    "solution_field_user_number=2\n",
    "solution_field=iron.Field()\n",
    "#associate the field with the region and mesh decomposition we have set up in this example. \n",
    "solution_field.CreateStart(solution_field_user_number,region)\n",
    "solution_field.LabelSet('Solution')\n",
    "solution_field.NumberOfComponentsSet(iron.FieldVariableTypes.U,1) \n",
    "solution_field.MeshDecompositionSet(decomposition)\n",
    "solution_field.CreateFinish()\n",
    "#initialise the values in the field to some arbitrary value for this example.\n",
    "solution_field.ComponentValuesInitialiseDP(iron.FieldVariableTypes.U,iron.FieldParameterSetTypes.VALUES,1,1000.0)\n"
   ]
  },
  {
   "cell_type": "markdown",
   "metadata": {},
   "source": [
    "### Example 1: Output as list of nodes and elements\n",
    "For a given mesh, one can access the mesh nodes as follows:"
   ]
  },
  {
   "cell_type": "code",
   "execution_count": 16,
   "metadata": {},
   "outputs": [],
   "source": [
    "\n",
    "# meshNodes = iron.MeshNodes()\n",
    "# mesh.NodesGet(1,meshNodes)\n",
    "# num_nodes= meshNodes.NumberOfNodesGet()\n"
   ]
  },
  {
   "cell_type": "markdown",
   "metadata": {},
   "source": [
    "Since we already have nodes defined, lets just use that in this example. First, lets access the number of coordinates and nodes in the mesh:"
   ]
  },
  {
   "cell_type": "code",
   "execution_count": 17,
   "metadata": {
    "pycharm": {
     "name": "#%%\n"
    }
   },
   "outputs": [],
   "source": [
    "#since we already have Nodes defined, lets just use thatin this example\n",
    "num_nodes = nodes.NumberOfNodesGet()\n",
    "num_coords = coordinate_system.DimensionGet()\n"
   ]
  },
  {
   "cell_type": "markdown",
   "metadata": {},
   "source": [
    "Lets create a nodes list that contains the node numbers, the coordinates of each node and the solution value at each node. We use the iron function Field.ParameterSetGetNodeDP() to get the values from the geometric and solution fields. "
   ]
  },
  {
   "cell_type": "code",
   "execution_count": 18,
   "metadata": {},
   "outputs": [],
   "source": [
    "nodes_list = [[0 for coord in range(0,num_coords+2)] for node in range(0,num_nodes)]\n",
    "\n",
    "\n",
    "#create list object containing nodes and another one for elements\n",
    "for i in range(0,num_nodes):\n",
    "    node=i+1\n",
    "    node_coordx = geometric_field.ParameterSetGetNodeDP(iron.FieldVariableTypes.U,iron.FieldParameterSetTypes.VALUES,1,1,node,1)\n",
    "    node_coordy = geometric_field.ParameterSetGetNodeDP(iron.FieldVariableTypes.U,iron.FieldParameterSetTypes.VALUES,1,1,node,2)\n",
    "    node_coordz = geometric_field.ParameterSetGetNodeDP(iron.FieldVariableTypes.U,iron.FieldParameterSetTypes.VALUES,1,1,node,3)\n",
    "    node_solution_value = solution_field.ParameterSetGetNodeDP(iron.FieldVariableTypes.U,iron.FieldParameterSetTypes.VALUES,1,1,node,1)\n",
    "    nodes_list[i] = [node,node_coordx,node_coordy,node_coordz,node_solution_value]"
   ]
  },
  {
   "cell_type": "raw",
   "metadata": {},
   "source": [
    "Write out a file containing the list we have just created. "
   ]
  },
  {
   "cell_type": "code",
   "execution_count": 19,
   "metadata": {},
   "outputs": [],
   "source": [
    "node_file = open('CARDIOMYOCYTE_OUTPUT.node', 'w')\n",
    "node_file.writelines([str(line) + \"\\n\" for line in nodes_list])\n",
    "# Closing the file\n",
    "node_file.close()"
   ]
  },
  {
   "cell_type": "markdown",
   "metadata": {},
   "source": [
    "Now lets create a list of elements and write them out similarly:"
   ]
  },
  {
   "cell_type": "code",
   "execution_count": 20,
   "metadata": {},
   "outputs": [],
   "source": [
    "num_elem = mesh.NumberOfElementsGet()\n",
    "elements_list = [[0 for i in range(5)] for elem in range(num_elem)]\n",
    "for j in range(0,num_elem):\n",
    "    elemidx=j+1\n",
    "    elemnodes = meshElements.NodesGet(elemidx,4)\n",
    "    elements_list[j] = [elemidx,elemnodes[0],elemnodes[1],elemnodes[2],elemnodes[3]]\n",
    "\n",
    "elem_file=open('CARDIOMYOCYTE_OUTPUT.ele','w')\n",
    "elem_file.writelines([str(line) + \"\\n\" for line in elements_list])\n",
    "elem_file.close()"
   ]
  },
  {
   "cell_type": "markdown",
   "metadata": {},
   "source": [
    "### Example 2: Output as numpy arrays - useful for importing into ParaView\n"
   ]
  },
  {
   "cell_type": "code",
   "execution_count": 21,
   "metadata": {},
   "outputs": [],
   "source": [
    "#Example 2: Output as arrays\n",
    "import numpy as np\n",
    "\n",
    "nodesx = np.array(nodes_list[:][1])\n",
    "np.save('CARDIOMYOCYTE_OUTPUT.x.npy',nodesx)\n",
    "nodesy = np.array(nodes_list[:][2])\n",
    "np.save('CARDIOMYOCYTE_OUTPUT.y.npy',nodesy)\n",
    "nodesz= np.array(nodes_list[:][3])\n",
    "np.save('CARDIOMYOCYTE_OUTPUT.z.npy',nodesz)\n",
    "nodesolution=np.array(nodes_list[:][4])\n",
    "np.save('CARDIOMYOCYTE_OUTPUT.sol.npy',nodesolution)\n"
   ]
  },
  {
   "cell_type": "code",
   "execution_count": 22,
   "metadata": {},
   "outputs": [],
   "source": [
    "# Export results in Exfile format.\n",
    "# fields = iron.Fields()\n",
    "# fields.CreateRegion(region)\n",
    "# fields.NodesExport(\"laplace_equation\", \"FORTRAN\")\n",
    "# fields.ElementsExport(\"laplace_equation\", \"FORTRAN\")\n",
    "# fields.Finalise()"
   ]
  },
  {
   "cell_type": "markdown",
   "metadata": {},
   "source": [
    "Let the library know that you are done with computations and the resources allocated for the problem can now be released\n"
   ]
  },
  {
   "cell_type": "code",
   "execution_count": 23,
   "metadata": {
    "pycharm": {
     "name": "#%%\n"
    }
   },
   "outputs": [],
   "source": [
    "iron.Finalise()"
   ]
  },
  {
   "cell_type": "markdown",
   "metadata": {
    "pycharm": {
     "name": "#%% md\n"
    }
   },
   "source": [
    "## Visualising results\n",
    "\n",
    "There are many different ways to visualise the results that you have generated in this example."
   ]
  },
  {
   "cell_type": "markdown",
   "metadata": {},
   "source": [
    "# Converting all code into vtk"
   ]
  },
  {
   "cell_type": "code",
   "execution_count": null,
   "metadata": {
    "tags": []
   },
   "outputs": [],
   "source": [
    "\n",
    "import meshio\n",
    "import numpy as np\n",
    "\n",
    "# Obtain the nodeal values and their coordinates\n",
    "points = np.array(NodeCoords)\n",
    "\n",
    "# Obtain the connectivity matrix between the nodes at each element\n",
    "# Note that meshio uses a 0-index node labeling system, while Opencmiss uses a 1-index node labeling system. So all node numbers need to be reduced by 1. \n",
    "# elements_list[0] represents the element number\n",
    "# elements_list[1:5] represents the 4 nodes associated with that element\n",
    "cells_array = np.array(elements_list)[:,1:5] - 1\n",
    "cells = [(\"tetra\", cells_array)]\n",
    "\n",
    "\n",
    "# Extract the values of the solution field at each of the nodes in the mesh\n",
    "solution_field_nodes = np.zeros(num_nodes)\n",
    "for i in range(num_nodes):\n",
    "    node = i+1\n",
    "    solution_field_nodes[i] = solution_field.ParameterSetGetNodeDP(iron.FieldVariableTypes.U,iron.FieldParameterSetTypes.VALUES,1,1,node,1)\n",
    "\n",
    "# This is the code that outputs the data into a particular format\n",
    "meshio.write_points_cells(\"CARDIOMYOCYTE_OUTPUT.vtk\",points,cells,point_data={\"solution\":solution_field_nodes})\n",
    "    # Optionally provide extra data on points, cells, etc.\n",
    "    # cell_data=cell_data,\n",
    "    # field_data=field_data\n",
    "# )"
   ]
  },
  {
   "cell_type": "code",
   "execution_count": null,
   "metadata": {},
   "outputs": [],
   "source": []
  }
 ],
 "metadata": {
  "kernelspec": {
   "display_name": "Python 3",
   "language": "python",
   "name": "python3"
  },
  "language_info": {
   "codemirror_mode": {
    "name": "ipython",
    "version": 3
   },
   "file_extension": ".py",
   "mimetype": "text/x-python",
   "name": "python",
   "nbconvert_exporter": "python",
   "pygments_lexer": "ipython3",
   "version": "3.7.5"
  }
 },
 "nbformat": 4,
 "nbformat_minor": 4
}